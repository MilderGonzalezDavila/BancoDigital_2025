{
 "cells": [
  {
   "cell_type": "code",
   "execution_count": null,
   "id": "29f6b237",
   "metadata": {},
   "outputs": [],
   "source": [
    "# Ruta de la carpeta \"data\" dentro del proyecto actual"
   ]
  }
 ],
 "metadata": {
  "kernelspec": {
   "display_name": "myenv (3.13.7)",
   "language": "python",
   "name": "python3"
  },
  "language_info": {
   "name": "python",
   "version": "3.13.7"
  }
 },
 "nbformat": 4,
 "nbformat_minor": 5
}
