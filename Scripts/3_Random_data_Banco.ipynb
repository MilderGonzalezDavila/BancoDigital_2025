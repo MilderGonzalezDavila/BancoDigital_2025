{
 "cells": [
  {
   "cell_type": "markdown",
   "id": "1a0fd0dc",
   "metadata": {},
   "source": [
    "## Generar datos para el CSV\n",
    "Generar (manual o programáticamente) 1000 registros de clientes con distintos tipos de cuenta y sucursales, incluyendo tipo de cuenta NA (Campo nulo o vacío) guardar en archivo Bancos.csv"
   ]
  },
  {
   "cell_type": "code",
   "execution_count": null,
   "id": "b9323a43",
   "metadata": {},
   "outputs": [],
   "source": []
  }
 ],
 "metadata": {
  "language_info": {
   "name": "python"
  }
 },
 "nbformat": 4,
 "nbformat_minor": 5
}
