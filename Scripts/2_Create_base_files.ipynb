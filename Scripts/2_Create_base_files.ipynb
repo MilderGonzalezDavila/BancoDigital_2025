{
 "cells": [
  {
   "cell_type": "markdown",
   "id": "b46137e9",
   "metadata": {},
   "source": [
    "## 2.\tCrear archivo base Base.csv automáticamente"
   ]
  },
  {
   "cell_type": "code",
   "execution_count": null,
   "id": "cd71168e",
   "metadata": {},
   "outputs": [
    {
     "name": "stdout",
     "output_type": "stream",
     "text": [
      "Archivo 'base.csv' creado correctamente.\n"
     ]
    }
   ],
   "source": [
    "from pathlib import Path\n",
    "\n",
    "# Crear carpeta data\n",
    "data_path = Path.cwd() / \"../data\"\n",
    "data_path.mkdir(parents=True, exist_ok=True)\n",
    "\n",
    "# Crear archivo CSV base\n",
    "archivo_csv = data_path / \"Bancos.csv\"\n",
    "if not archivo_csv.exists():\n",
    "    with open(archivo_csv, \"w\", encoding=\"utf-8\") as f:\n",
    "        f.write(\"Num_Cta,Cli_Codigo,TipoCuenta,Sucursal,FechaApertura,Saldo\\n\")\n",
    "    print(\"Archivo 'base.csv' creado correctamente.\")\n",
    "else:\n",
    "    print(\"El archivo 'base.csv' ya existe.\")"
   ]
  },
  {
   "cell_type": "code",
   "execution_count": null,
   "id": "fce34da6",
   "metadata": {},
   "outputs": [],
   "source": []
  }
 ],
 "metadata": {
  "kernelspec": {
   "display_name": "myenv (3.13.7)",
   "language": "python",
   "name": "python3"
  },
  "language_info": {
   "codemirror_mode": {
    "name": "ipython",
    "version": 3
   },
   "file_extension": ".py",
   "mimetype": "text/x-python",
   "name": "python",
   "nbconvert_exporter": "python",
   "pygments_lexer": "ipython3",
   "version": "3.13.7"
  }
 },
 "nbformat": 4,
 "nbformat_minor": 5
}
